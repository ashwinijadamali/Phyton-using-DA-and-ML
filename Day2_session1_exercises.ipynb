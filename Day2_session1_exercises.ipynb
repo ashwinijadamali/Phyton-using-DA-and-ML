{
  "nbformat": 4,
  "nbformat_minor": 0,
  "metadata": {
    "colab": {
      "name": " Day2 session1 exercises.ipynb",
      "provenance": [],
      "collapsed_sections": [],
      "include_colab_link": true
    },
    "kernelspec": {
      "name": "python3",
      "display_name": "Python 3"
    }
  },
  "cells": [
    {
      "cell_type": "markdown",
      "metadata": {
        "id": "view-in-github",
        "colab_type": "text"
      },
      "source": [
        "<a href=\"https://colab.research.google.com/github/ashwinijadamali/Phyton-using-DA-and-ML/blob/master/Day2_session1_exercises.ipynb\" target=\"_parent\"><img src=\"https://colab.research.google.com/assets/colab-badge.svg\" alt=\"Open In Colab\"/></a>"
      ]
    },
    {
      "cell_type": "markdown",
      "metadata": {
        "id": "hSOe5uF26Wjr",
        "colab_type": "text"
      },
      "source": [
        "print multiples of 3 upto 200 using a list\n",
        "\n"
      ]
    },
    {
      "cell_type": "code",
      "metadata": {
        "id": "fuWuuHqi6XcB",
        "colab_type": "code",
        "colab": {
          "base_uri": "https://localhost:8080/",
          "height": 84
        },
        "outputId": "d97924d6-a81a-457f-e885-a29feb8269e2"
      },
      "source": [
        "import numpy as np\n",
        "x = np.arange(1, 200)\n",
        "n= x[(x % 3 == 0)]\n",
        "print(n)\n"
      ],
      "execution_count": null,
      "outputs": [
        {
          "output_type": "stream",
          "text": [
            "[  3   6   9  12  15  18  21  24  27  30  33  36  39  42  45  48  51  54\n",
            "  57  60  63  66  69  72  75  78  81  84  87  90  93  96  99 102 105 108\n",
            " 111 114 117 120 123 126 129 132 135 138 141 144 147 150 153 156 159 162\n",
            " 165 168 171 174 177 180 183 186 189 192 195 198]\n"
          ],
          "name": "stdout"
        }
      ]
    },
    {
      "cell_type": "markdown",
      "metadata": {
        "id": "HE4z4x2E7_zk",
        "colab_type": "text"
      },
      "source": [
        "print the nos only divisable by 5 and 7 between 1000 and 2000 using a list( both inclusive)"
      ]
    },
    {
      "cell_type": "code",
      "metadata": {
        "id": "x7yNmrE68G5a",
        "colab_type": "code",
        "colab": {
          "base_uri": "https://localhost:8080/",
          "height": 53
        },
        "outputId": "8c17171a-5af6-435d-b6f7-4c9f50e70060"
      },
      "source": [
        "nl=[]\n",
        "for x in range(1000, 2000):\n",
        "    if (x%7==0) and (x%5==0):\n",
        "        nl.append(str(x))\n",
        "print (','.join(nl))"
      ],
      "execution_count": null,
      "outputs": [
        {
          "output_type": "stream",
          "text": [
            "1015,1050,1085,1120,1155,1190,1225,1260,1295,1330,1365,1400,1435,1470,1505,1540,1575,1610,1645,1680,1715,1750,1785,1820,1855,1890,1925,1960,1995\n"
          ],
          "name": "stdout"
        }
      ]
    },
    {
      "cell_type": "markdown",
      "metadata": {
        "id": "UWttz2JD8jle",
        "colab_type": "text"
      },
      "source": [
        "Add the n number of names in a list and print them alphabetically and reverse alphabetically."
      ]
    },
    {
      "cell_type": "code",
      "metadata": {
        "id": "Uzdd6PWO8o6J",
        "colab_type": "code",
        "colab": {
          "base_uri": "https://localhost:8080/",
          "height": 134
        },
        "outputId": "94777bce-ea4f-4be6-d7f3-726d292156bc"
      },
      "source": [
        "a=[]\n",
        "n=int(input(\"Enter n: \"))\n",
        "print(\"Enter names:\")\n",
        "for i in range(1,n+1):\n",
        "    b=input()\n",
        "    a.append(b)\n",
        "a.sort()\n",
        "print(\"names in alphabetic order:\"+str(a))\n",
        "a.reverse()\n",
        "print(\"names in reverse alphabetic order:\"+str(a))"
      ],
      "execution_count": null,
      "outputs": [
        {
          "output_type": "stream",
          "text": [
            "Enter n: 3\n",
            "Enter names:\n",
            "anvitha\n",
            "anu\n",
            "appi\n",
            "names in alphabetic order:['anu', 'anvitha', 'appi']\n",
            "names in reverse alphabetic order:['appi', 'anvitha', 'anu']\n"
          ],
          "name": "stdout"
        }
      ]
    },
    {
      "cell_type": "markdown",
      "metadata": {
        "id": "cuv1ARLT9Ikk",
        "colab_type": "text"
      },
      "source": [
        "Print  perfect squares and divisible by 5 between 500 and 1000( (both inclusive) using list"
      ]
    },
    {
      "cell_type": "code",
      "metadata": {
        "id": "siVmXWIf-MfB",
        "colab_type": "code",
        "colab": {
          "base_uri": "https://localhost:8080/",
          "height": 33
        },
        "outputId": "06b02954-ccaf-4490-852d-7de08f671922"
      },
      "source": [
        " \n",
        "def perfectSquares(l, r):  \n",
        "\tfor i in range(l, r + 1): \n",
        "\n",
        "    if (i**(.5) == int(i**(.5))): \n",
        "       print(i, end=\" \") \n",
        "l = 500\n",
        "r = 1000\n",
        "\n",
        "perfectSquares(l, r) \n",
        "\n"
      ],
      "execution_count": null,
      "outputs": [
        {
          "output_type": "stream",
          "text": [
            "529 576 625 676 729 784 841 900 961 "
          ],
          "name": "stdout"
        }
      ]
    },
    {
      "cell_type": "markdown",
      "metadata": {
        "id": "qxEA0yqE-99Q",
        "colab_type": "text"
      },
      "source": [
        "Get  a string and store word by word as elements in a tuple and find the largest word in the  tuple and print it"
      ]
    },
    {
      "cell_type": "code",
      "metadata": {
        "id": "JNDhTyjrXUOB",
        "colab_type": "code",
        "colab": {}
      },
      "source": [
        "def find_longest_and_shortest_word(list_of_words):\n",
        "    longest_word = list_of_words['hey','i','am']\n",
        "    shortest_word = list_of_words['hey','i','am']\n",
        "    for word in list_of_words:\n",
        "        if len(longest_word) < len(word):\n",
        "            longest_word = word\n",
        "        if len(shortest_word) > len(word):\n",
        "            shortest_word = word\n",
        "    print(f'The longest word is: {longest_word}')\n",
        "    print(f'The shortest word is: {shortest_word}')\n",
        "    return longest_word, shortest_word"
      ],
      "execution_count": null,
      "outputs": []
    },
    {
      "cell_type": "markdown",
      "metadata": {
        "id": "o2SlZRCfXVZa",
        "colab_type": "text"
      },
      "source": [
        "Get rollno and marks (Rollno, mark) as list of tuples for n number of students through keyboard  and print them in marks descending order with rollno."
      ]
    },
    {
      "cell_type": "code",
      "metadata": {
        "id": "wvpOKUR__FbK",
        "colab_type": "code",
        "colab": {}
      },
      "source": [
        "students = []\n",
        "name=[]\n",
        "marks = []\n",
        "num = input(\"How many students?:  \") \n",
        "for i in num:\n",
        "  name = input(\"input roll no of student \"+ i)\n",
        "  students.append(name)\n",
        "  mark = input(\"input mark of the student\")\n",
        "  marks.append(mark)\n",
        "  for i in num:\n",
        "    print(students[i] + \": \",marks[i])"
      ],
      "execution_count": null,
      "outputs": []
    },
    {
      "cell_type": "markdown",
      "metadata": {
        "id": "y60v9fKkbvPF",
        "colab_type": "text"
      },
      "source": [
        "Get name and salary (name, salary) as list of tuples for n number of employees through keyboard  and print them in name alphabetical order with salary"
      ]
    },
    {
      "cell_type": "code",
      "metadata": {
        "id": "khBZxMxNdNCN",
        "colab_type": "code",
        "colab": {
          "base_uri": "https://localhost:8080/",
          "height": 33
        },
        "outputId": "27f2da58-6727-4043-b2e0-dd62d30cc854"
      },
      "source": [
        "\n",
        "\n",
        " \n",
        "def Sort_Tuple(tup): \n",
        "\ttup.sort(key = lambda x: x[1]) \n",
        "\treturn tup \n",
        "tup = [('rishav', 10), ('akash', 5), ('ram', 20), ('gaurav', 15)] \n",
        "\n",
        "\n",
        "print(Sort_Tuple(tup)) \n"
      ],
      "execution_count": null,
      "outputs": [
        {
          "output_type": "stream",
          "text": [
            "[('akash', 5), ('rishav', 10), ('gaurav', 15), ('ram', 20)]\n"
          ],
          "name": "stdout"
        }
      ]
    }
  ]
}