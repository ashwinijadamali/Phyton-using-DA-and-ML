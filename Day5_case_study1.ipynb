{
  "nbformat": 4,
  "nbformat_minor": 0,
  "metadata": {
    "colab": {
      "name": "Day5 case study1.ipynb",
      "provenance": [],
      "collapsed_sections": [],
      "include_colab_link": true
    },
    "kernelspec": {
      "name": "python3",
      "display_name": "Python 3"
    }
  },
  "cells": [
    {
      "cell_type": "markdown",
      "metadata": {
        "id": "view-in-github",
        "colab_type": "text"
      },
      "source": [
        "<a href=\"https://colab.research.google.com/github/ashwinijadamali/Phyton-using-DA-and-ML/blob/master/Day5_case_study1.ipynb\" target=\"_parent\"><img src=\"https://colab.research.google.com/assets/colab-badge.svg\" alt=\"Open In Colab\"/></a>"
      ]
    },
    {
      "cell_type": "markdown",
      "metadata": {
        "id": "lGsbOADm9oOK",
        "colab_type": "text"
      },
      "source": [
        "<h1>Case Study 1"
      ]
    },
    {
      "cell_type": "code",
      "metadata": {
        "id": "aeOZeAdEPeIR",
        "colab_type": "code",
        "colab": {}
      },
      "source": [
        ""
      ],
      "execution_count": null,
      "outputs": []
    },
    {
      "cell_type": "markdown",
      "metadata": {
        "id": "AWdk7gsz9o8K",
        "colab_type": "text"
      },
      "source": [
        "#Machine learning project in python to predict loan approval \n",
        "We have the dataset with the loan applicants data and whether the application was approved or not. "
      ]
    },
    {
      "cell_type": "markdown",
      "metadata": {
        "id": "4JBSTSZF-e-i",
        "colab_type": "text"
      },
      "source": [
        "#Steps involved in this machine learning project:\n",
        "Following are the steps involved in creating a well-defined ML project:<br>\n",
        "•\tUnderstand and define the problem<br>\n",
        "•\tAnalyse and prepare the data<br>\n",
        "•\tApply the algorithms<br>\n",
        "•\tReduce the errors<br>\n",
        "•\tPredict the result<br>\n",
        "These 2 steps need to be performed in the day4 workshop itself<br>\n",
        "These 3 steps need to be performed in the day5 workshop\n"
      ]
    },
    {
      "cell_type": "markdown",
      "metadata": {
        "id": "UaEgxCRf_EFS",
        "colab_type": "text"
      },
      "source": [
        "#Predict if the loan application will get approved\n",
        "\n",
        "•\tWe have the loan application information like the applicant's name, personal details, financial information and requested loan amount and related details and the outcome (whether the application was approved or rejected). Based on this we are going to train a model and predict if a loan will get approved or not.\n"
      ]
    },
    {
      "cell_type": "code",
      "metadata": {
        "id": "jMf0YGUcCnXA",
        "colab_type": "code",
        "colab": {}
      },
      "source": [
        "import pandas as pd\n",
        "import numpy as np\n",
        "import matplotlib.pyplot as plt\n",
        "from sklearn import model_selection\n",
        "from sklearn.metrics import accuracy_score\n",
        "from sklearn.linear_model import LogisticRegression\n",
        "from sklearn.linear_model import LinearRegression\n",
        "from sklearn.ensemble import RandomForestClassifier\n",
        "from sklearn.neighbors import KNeighborsClassifier\n",
        "from sklearn.svm import SVC\n",
        "from sklearn.tree import DecisionTreeClassifier, export_graphviz"
      ],
      "execution_count": null,
      "outputs": []
    },
    {
      "cell_type": "code",
      "metadata": {
        "id": "1YnVkwwtCtj5",
        "colab_type": "code",
        "colab": {}
      },
      "source": [
        "url = \"/content/Loan-applicant-details.csv\"\n",
        "names = ['Loan_ID','Gender','Married','Dependents','Education','Self_Employed','ApplicantIncome','CoapplicantIncome','LoanAmount','Loan_Amount_Term','Credit_History','Property_Area','Loan_Status']\n",
        "dataset = pd.read_csv(url, names=names)"
      ],
      "execution_count": null,
      "outputs": []
    },
    {
      "cell_type": "code",
      "metadata": {
        "id": "V44uDgPhP0H0",
        "colab_type": "code",
        "colab": {}
      },
      "source": [
        ""
      ],
      "execution_count": null,
      "outputs": []
    },
    {
      "cell_type": "code",
      "metadata": {
        "id": "qv3d07wCF_6B",
        "colab_type": "code",
        "colab": {
          "base_uri": "https://localhost:8080/",
          "height": 401
        },
        "outputId": "e0d3a095-8acf-414c-b362-f4d3f9ae66a5"
      },
      "source": [
        "print(dataset.head(20))\n"
      ],
      "execution_count": null,
      "outputs": [
        {
          "output_type": "stream",
          "text": [
            "     Loan_ID  Gender Married  ... Credit_History Property_Area Loan_Status\n",
            "0   LP001003    Male     Yes  ...              1         Rural           N\n",
            "1   LP001005    Male     Yes  ...              1         Urban           Y\n",
            "2   LP001006    Male     Yes  ...              1         Urban           Y\n",
            "3   LP001008    Male      No  ...              1         Urban           Y\n",
            "4   LP001011    Male     Yes  ...              1         Urban           Y\n",
            "5   LP001013    Male     Yes  ...              1         Urban           Y\n",
            "6   LP001014    Male     Yes  ...              0     Semiurban           N\n",
            "7   LP001018    Male     Yes  ...              1         Urban           Y\n",
            "8   LP001020    Male     Yes  ...              1     Semiurban           N\n",
            "9   LP001024    Male     Yes  ...              1         Urban           Y\n",
            "10  LP001028    Male     Yes  ...              1         Urban           Y\n",
            "11  LP001029    Male      No  ...              1         Rural           N\n",
            "12  LP001030    Male     Yes  ...              1         Urban           Y\n",
            "13  LP001032    Male      No  ...              1         Urban           Y\n",
            "14  LP001036  Female      No  ...              0         Urban           N\n",
            "15  LP001038    Male     Yes  ...              1         Rural           N\n",
            "16  LP001043    Male     Yes  ...              0         Urban           N\n",
            "17  LP001046    Male     Yes  ...              1         Urban           Y\n",
            "18  LP001047    Male     Yes  ...              0     Semiurban           N\n",
            "19  LP001066    Male     Yes  ...              1     Semiurban           Y\n",
            "\n",
            "[20 rows x 13 columns]\n"
          ],
          "name": "stdout"
        }
      ]
    },
    {
      "cell_type": "code",
      "metadata": {
        "id": "bjdl7btpD7wo",
        "colab_type": "code",
        "colab": {}
      },
      "source": [
        "from sklearn.preprocessing import LabelEncoder\n",
        "var_mod = ['Gender','Married','Dependents','Education','Self_Employed','Property_Area']\n",
        "le = LabelEncoder()\n",
        "for i in var_mod:\n",
        "    dataset[i] = le.fit_transform(dataset[i])\n"
      ],
      "execution_count": null,
      "outputs": []
    },
    {
      "cell_type": "markdown",
      "metadata": {
        "id": "a2HaGSMcHYCP",
        "colab_type": "text"
      },
      "source": [
        "#Splitting the Data set\n",
        "As we have seen already, In Machine learning we have two kinds of datasets<br>\n",
        "•\tTraining dataset - used to train our model<br>\n",
        "•\tTesting dataset - used to test if our model is making accurate predictions<br>\n",
        "Our dataset has 480 records. We are going to use 80% of it for training the model and 20% of the records to evaluate our model. copy paste the below commands to prepare our data sets<br>\n",
        "Though our dataset has lot of columns, we are only going to use the Income fields, loan amount, loan duration and credit history fields to train our model.\n"
      ]
    },
    {
      "cell_type": "code",
      "metadata": {
        "id": "tiAECs1VHwJ_",
        "colab_type": "code",
        "colab": {
          "base_uri": "https://localhost:8080/",
          "height": 84
        },
        "outputId": "dd294e06-0faf-4689-f309-e229d6f6d0f1"
      },
      "source": [
        "array = dataset.values\n",
        "X = array[:,6:11]\n",
        "Y = array[:,12]\n",
        "x_train, x_test, y_train, y_test = model_selection.train_test_split(X, Y, test_size=0.2, random_state=7)\n",
        "dataset.columns"
      ],
      "execution_count": null,
      "outputs": [
        {
          "output_type": "execute_result",
          "data": {
            "text/plain": [
              "Index(['Loan_ID', 'Gender', 'Married', 'Dependents', 'Education',\n",
              "       'Self_Employed', 'ApplicantIncome', 'CoapplicantIncome', 'LoanAmount',\n",
              "       'Loan_Amount_Term', 'Credit_History', 'Property_Area', 'Loan_Status'],\n",
              "      dtype='object')"
            ]
          },
          "metadata": {
            "tags": []
          },
          "execution_count": 9
        }
      ]
    },
    {
      "cell_type": "code",
      "metadata": {
        "id": "NZ2LZdkHLWaR",
        "colab_type": "code",
        "colab": {
          "base_uri": "https://localhost:8080/",
          "height": 33
        },
        "outputId": "15188b6c-3787-4a5d-bacc-b1fa18faa3db"
      },
      "source": [
        "model = LogisticRegression()\n",
        "model.fit(x_train,y_train)\n",
        "predictions = model.predict(x_test)\n",
        "print(accuracy_score(y_test, predictions))"
      ],
      "execution_count": null,
      "outputs": [
        {
          "output_type": "stream",
          "text": [
            "0.7708333333333334\n"
          ],
          "name": "stdout"
        }
      ]
    },
    {
      "cell_type": "markdown",
      "metadata": {
        "id": "pjB1HoEG6MDH",
        "colab_type": "text"
      },
      "source": [
        "#Evaluating the model and training the Model with\n",
        "#'ApplicantIncome', 'CoapplicantIncome',\n",
        "#'LoanAmount','Loan_Amount_Term', 'Credit_History'\n",
        "#ML model 1\n"
      ]
    },
    {
      "cell_type": "markdown",
      "metadata": {
        "colab_type": "text",
        "id": "Ip4rwT83CM32"
      },
      "source": [
        "Training dataset – 90%\n",
        "\n",
        "Testing dataset – 10%\n"
      ]
    },
    {
      "cell_type": "code",
      "metadata": {
        "colab_type": "code",
        "id": "HHpQS0lFCM37",
        "colab": {
          "base_uri": "https://localhost:8080/",
          "height": 84
        },
        "outputId": "a265531d-2df0-470b-fcb5-e80dc55ca2ae"
      },
      "source": [
        "array = dataset.values\n",
        "X = array[:,2:6]\n",
        "Y = array[:,12]\n",
        "x_train, x_test, y_train, y_test = model_selection.train_test_split(X, Y, test_size=0.10, random_state=7)\n",
        "dataset.columns"
      ],
      "execution_count": null,
      "outputs": [
        {
          "output_type": "execute_result",
          "data": {
            "text/plain": [
              "Index(['Loan_ID', 'Gender', 'Married', 'Dependents', 'Education',\n",
              "       'Self_Employed', 'ApplicantIncome', 'CoapplicantIncome', 'LoanAmount',\n",
              "       'Loan_Amount_Term', 'Credit_History', 'Property_Area', 'Loan_Status'],\n",
              "      dtype='object')"
            ]
          },
          "metadata": {
            "tags": []
          },
          "execution_count": 11
        }
      ]
    },
    {
      "cell_type": "code",
      "metadata": {
        "colab_type": "code",
        "id": "1Zn-Bh2QCM4H",
        "colab": {
          "base_uri": "https://localhost:8080/",
          "height": 33
        },
        "outputId": "7f63c300-65ae-4727-bcf9-0d7e3750fa09"
      },
      "source": [
        "model = LogisticRegression()\n",
        "model.fit(x_train,y_train)\n",
        "predictions = model.predict(x_test)\n",
        "print(accuracy_score(y_test, predictions))"
      ],
      "execution_count": null,
      "outputs": [
        {
          "output_type": "stream",
          "text": [
            "0.6875\n"
          ],
          "name": "stdout"
        }
      ]
    },
    {
      "cell_type": "code",
      "metadata": {
        "colab_type": "code",
        "id": "eiFZ-D4aCM4L",
        "colab": {
          "base_uri": "https://localhost:8080/",
          "height": 33
        },
        "outputId": "43a89b80-a8b1-4e52-8738-b5f9b915dffd"
      },
      "source": [
        "model = DecisionTreeClassifier()\n",
        "model.fit(x_train,y_train)\n",
        "predictions = model.predict(x_test)\n",
        "print(accuracy_score(y_test, predictions))"
      ],
      "execution_count": null,
      "outputs": [
        {
          "output_type": "stream",
          "text": [
            "0.6875\n"
          ],
          "name": "stdout"
        }
      ]
    },
    {
      "cell_type": "code",
      "metadata": {
        "colab_type": "code",
        "id": "KNgbSbPcCM4P",
        "colab": {
          "base_uri": "https://localhost:8080/",
          "height": 33
        },
        "outputId": "23555b63-b331-4030-82ac-9c83ff28368d"
      },
      "source": [
        "model = RandomForestClassifier(n_estimators=100)\n",
        "model.fit(x_train,y_train)\n",
        "predictions = model.predict(x_test)\n",
        "print(accuracy_score(y_test, predictions))"
      ],
      "execution_count": null,
      "outputs": [
        {
          "output_type": "stream",
          "text": [
            "0.6875\n"
          ],
          "name": "stdout"
        }
      ]
    },
    {
      "cell_type": "markdown",
      "metadata": {
        "colab_type": "text",
        "id": "IDnsQZNnCM4T"
      },
      "source": [
        "Training dataset – 70%<br>\n",
        "Testing dataset – 30%"
      ]
    },
    {
      "cell_type": "code",
      "metadata": {
        "colab_type": "code",
        "id": "egBlLJ0OCM4U",
        "colab": {
          "base_uri": "https://localhost:8080/",
          "height": 84
        },
        "outputId": "cadc9985-7448-44cd-f612-6569ceeebb38"
      },
      "source": [
        "array = dataset.values\n",
        "X = array[:,2:6]\n",
        "Y = array[:,12]\n",
        "x_train, x_test, y_train, y_test = model_selection.train_test_split(X, Y, test_size=0.30, random_state=7)\n",
        "dataset.columns"
      ],
      "execution_count": null,
      "outputs": [
        {
          "output_type": "execute_result",
          "data": {
            "text/plain": [
              "Index(['Loan_ID', 'Gender', 'Married', 'Dependents', 'Education',\n",
              "       'Self_Employed', 'ApplicantIncome', 'CoapplicantIncome', 'LoanAmount',\n",
              "       'Loan_Amount_Term', 'Credit_History', 'Property_Area', 'Loan_Status'],\n",
              "      dtype='object')"
            ]
          },
          "metadata": {
            "tags": []
          },
          "execution_count": 15
        }
      ]
    },
    {
      "cell_type": "code",
      "metadata": {
        "colab_type": "code",
        "id": "ZosbIcvbCM4W",
        "colab": {
          "base_uri": "https://localhost:8080/",
          "height": 33
        },
        "outputId": "90281351-1362-4cdc-de92-a754f2a607da"
      },
      "source": [
        "model = LogisticRegression()\n",
        "model.fit(x_train,y_train)\n",
        "predictions = model.predict(x_test)\n",
        "print(accuracy_score(y_test, predictions))"
      ],
      "execution_count": null,
      "outputs": [
        {
          "output_type": "stream",
          "text": [
            "0.6527777777777778\n"
          ],
          "name": "stdout"
        }
      ]
    },
    {
      "cell_type": "code",
      "metadata": {
        "colab_type": "code",
        "id": "UgSDSMX3CM4Z",
        "colab": {
          "base_uri": "https://localhost:8080/",
          "height": 33
        },
        "outputId": "0c4693f0-a63e-4d55-abe4-f857ce24fc97"
      },
      "source": [
        "model = DecisionTreeClassifier()\n",
        "model.fit(x_train,y_train)\n",
        "predictions = model.predict(x_test)\n",
        "print(accuracy_score(y_test, predictions))"
      ],
      "execution_count": null,
      "outputs": [
        {
          "output_type": "stream",
          "text": [
            "0.6388888888888888\n"
          ],
          "name": "stdout"
        }
      ]
    },
    {
      "cell_type": "code",
      "metadata": {
        "colab_type": "code",
        "id": "HSD2hZ4qCM4b",
        "colab": {
          "base_uri": "https://localhost:8080/",
          "height": 33
        },
        "outputId": "a79a6bf3-c46a-478e-83d7-ad73227f1bde"
      },
      "source": [
        "model = RandomForestClassifier(n_estimators=100)\n",
        "model.fit(x_train,y_train)\n",
        "predictions = model.predict(x_test)\n",
        "print(accuracy_score(y_test, predictions))"
      ],
      "execution_count": null,
      "outputs": [
        {
          "output_type": "stream",
          "text": [
            "0.6388888888888888\n"
          ],
          "name": "stdout"
        }
      ]
    },
    {
      "cell_type": "markdown",
      "metadata": {
        "colab_type": "text",
        "id": "PEsrbGFECM4e"
      },
      "source": [
        "Training dataset – 60%<br>\n",
        "Testing dataset – 40%"
      ]
    },
    {
      "cell_type": "code",
      "metadata": {
        "colab_type": "code",
        "id": "mPCdkzNNCM4f",
        "colab": {
          "base_uri": "https://localhost:8080/",
          "height": 84
        },
        "outputId": "18f97989-630e-4250-cc34-2158fe6c107a"
      },
      "source": [
        "array = dataset.values\n",
        "X = array[:,2:6]\n",
        "Y = array[:,12]\n",
        "x_train, x_test, y_train, y_test = model_selection.train_test_split(X, Y, test_size=0.40, random_state=7)\n",
        "dataset.columns"
      ],
      "execution_count": null,
      "outputs": [
        {
          "output_type": "execute_result",
          "data": {
            "text/plain": [
              "Index(['Loan_ID', 'Gender', 'Married', 'Dependents', 'Education',\n",
              "       'Self_Employed', 'ApplicantIncome', 'CoapplicantIncome', 'LoanAmount',\n",
              "       'Loan_Amount_Term', 'Credit_History', 'Property_Area', 'Loan_Status'],\n",
              "      dtype='object')"
            ]
          },
          "metadata": {
            "tags": []
          },
          "execution_count": 19
        }
      ]
    },
    {
      "cell_type": "code",
      "metadata": {
        "colab_type": "code",
        "id": "jGFCiPAYCM4g",
        "colab": {
          "base_uri": "https://localhost:8080/",
          "height": 33
        },
        "outputId": "d5a606b8-c8af-4fc5-9f5c-fa99c7bcea13"
      },
      "source": [
        "model = LogisticRegression()\n",
        "model.fit(x_train,y_train)\n",
        "predictions = model.predict(x_test)\n",
        "print(accuracy_score(y_test, predictions))"
      ],
      "execution_count": null,
      "outputs": [
        {
          "output_type": "stream",
          "text": [
            "0.6354166666666666\n"
          ],
          "name": "stdout"
        }
      ]
    },
    {
      "cell_type": "code",
      "metadata": {
        "colab_type": "code",
        "id": "Lt4zxq0kCM4i",
        "colab": {
          "base_uri": "https://localhost:8080/",
          "height": 33
        },
        "outputId": "4800928b-2cdc-4694-814e-b30a9a359f5d"
      },
      "source": [
        "model = DecisionTreeClassifier()\n",
        "model.fit(x_train,y_train)\n",
        "predictions = model.predict(x_test)\n",
        "print(accuracy_score(y_test, predictions))"
      ],
      "execution_count": null,
      "outputs": [
        {
          "output_type": "stream",
          "text": [
            "0.6197916666666666\n"
          ],
          "name": "stdout"
        }
      ]
    },
    {
      "cell_type": "code",
      "metadata": {
        "colab_type": "code",
        "id": "GFEKjcuxCM4k",
        "colab": {
          "base_uri": "https://localhost:8080/",
          "height": 33
        },
        "outputId": "51989916-7c49-432d-ad5e-1ad2e0724362"
      },
      "source": [
        "model = RandomForestClassifier(n_estimators=100)\n",
        "model.fit(x_train,y_train)\n",
        "predictions = model.predict(x_test)\n",
        "print(accuracy_score(y_test, predictions))"
      ],
      "execution_count": null,
      "outputs": [
        {
          "output_type": "stream",
          "text": [
            "0.6302083333333334\n"
          ],
          "name": "stdout"
        }
      ]
    },
    {
      "cell_type": "markdown",
      "metadata": {
        "id": "7JRFfISN6rYR",
        "colab_type": "text"
      },
      "source": [
        "#Evaluating the model and training the Model with 'Married',\n",
        "#'Dependents', 'Education','Self_Employed', 'ApplicantIncome'\n",
        "#ML model 2"
      ]
    },
    {
      "cell_type": "markdown",
      "metadata": {
        "id": "mSST9ujO6-5q",
        "colab_type": "text"
      },
      "source": [
        "Training dataset – 90%\n",
        "\n",
        "Testing dataset – 10%\n"
      ]
    },
    {
      "cell_type": "code",
      "metadata": {
        "id": "h_6ShAuF6u8r",
        "colab_type": "code",
        "colab": {
          "base_uri": "https://localhost:8080/",
          "height": 84
        },
        "outputId": "fe95acbb-8ac7-4ab7-d889-c710f38db7e5"
      },
      "source": [
        "array = dataset.values\n",
        "X = array[:,2:6]\n",
        "Y = array[:,12]\n",
        "x_train, x_test, y_train, y_test = model_selection.train_test_split(X, Y, test_size=0.10, random_state=7)\n",
        "dataset.columns"
      ],
      "execution_count": null,
      "outputs": [
        {
          "output_type": "execute_result",
          "data": {
            "text/plain": [
              "Index(['Loan_ID', 'Gender', 'Married', 'Dependents', 'Education',\n",
              "       'Self_Employed', 'ApplicantIncome', 'CoapplicantIncome', 'LoanAmount',\n",
              "       'Loan_Amount_Term', 'Credit_History', 'Property_Area', 'Loan_Status'],\n",
              "      dtype='object')"
            ]
          },
          "metadata": {
            "tags": []
          },
          "execution_count": 23
        }
      ]
    },
    {
      "cell_type": "code",
      "metadata": {
        "id": "vFFeldjs7GSh",
        "colab_type": "code",
        "colab": {
          "base_uri": "https://localhost:8080/",
          "height": 33
        },
        "outputId": "9278deca-1772-452a-d556-e336e30ab800"
      },
      "source": [
        "model = LogisticRegression()\n",
        "model.fit(x_train,y_train)\n",
        "predictions = model.predict(x_test)\n",
        "print(accuracy_score(y_test, predictions))"
      ],
      "execution_count": null,
      "outputs": [
        {
          "output_type": "stream",
          "text": [
            "0.6875\n"
          ],
          "name": "stdout"
        }
      ]
    },
    {
      "cell_type": "code",
      "metadata": {
        "id": "0VnlOEn68E8p",
        "colab_type": "code",
        "colab": {
          "base_uri": "https://localhost:8080/",
          "height": 33
        },
        "outputId": "e71dcf82-fdf3-4f11-b61a-acdb75a39255"
      },
      "source": [
        "model = DecisionTreeClassifier()\n",
        "model.fit(x_train,y_train)\n",
        "predictions = model.predict(x_test)\n",
        "print(accuracy_score(y_test, predictions))"
      ],
      "execution_count": null,
      "outputs": [
        {
          "output_type": "stream",
          "text": [
            "0.6875\n"
          ],
          "name": "stdout"
        }
      ]
    },
    {
      "cell_type": "code",
      "metadata": {
        "id": "eFtp9iCB8K_Q",
        "colab_type": "code",
        "colab": {
          "base_uri": "https://localhost:8080/",
          "height": 33
        },
        "outputId": "ea24f06f-b7ba-4d0f-d2f9-c4550d7b4a06"
      },
      "source": [
        "model = RandomForestClassifier(n_estimators=100)\n",
        "model.fit(x_train,y_train)\n",
        "predictions = model.predict(x_test)\n",
        "print(accuracy_score(y_test, predictions))"
      ],
      "execution_count": null,
      "outputs": [
        {
          "output_type": "stream",
          "text": [
            "0.6875\n"
          ],
          "name": "stdout"
        }
      ]
    },
    {
      "cell_type": "markdown",
      "metadata": {
        "id": "gA_jQVG-9WVh",
        "colab_type": "text"
      },
      "source": [
        "Training dataset – 70%<br>\n",
        "Testing dataset – 30%"
      ]
    },
    {
      "cell_type": "code",
      "metadata": {
        "id": "eLI_WbeJ8UIC",
        "colab_type": "code",
        "colab": {
          "base_uri": "https://localhost:8080/",
          "height": 84
        },
        "outputId": "40786527-46ad-4c2c-8618-4e2afe5d95cc"
      },
      "source": [
        "array = dataset.values\n",
        "X = array[:,2:6]\n",
        "Y = array[:,12]\n",
        "x_train, x_test, y_train, y_test = model_selection.train_test_split(X, Y, test_size=0.30, random_state=7)\n",
        "dataset.columns"
      ],
      "execution_count": null,
      "outputs": [
        {
          "output_type": "execute_result",
          "data": {
            "text/plain": [
              "Index(['Loan_ID', 'Gender', 'Married', 'Dependents', 'Education',\n",
              "       'Self_Employed', 'ApplicantIncome', 'CoapplicantIncome', 'LoanAmount',\n",
              "       'Loan_Amount_Term', 'Credit_History', 'Property_Area', 'Loan_Status'],\n",
              "      dtype='object')"
            ]
          },
          "metadata": {
            "tags": []
          },
          "execution_count": 27
        }
      ]
    },
    {
      "cell_type": "code",
      "metadata": {
        "id": "Y7fsAkcm8ZQS",
        "colab_type": "code",
        "colab": {
          "base_uri": "https://localhost:8080/",
          "height": 33
        },
        "outputId": "0ff1ce3a-ed08-4610-b77d-15ffedb1dcdb"
      },
      "source": [
        "model = LogisticRegression()\n",
        "model.fit(x_train,y_train)\n",
        "predictions = model.predict(x_test)\n",
        "print(accuracy_score(y_test, predictions))"
      ],
      "execution_count": null,
      "outputs": [
        {
          "output_type": "stream",
          "text": [
            "0.6527777777777778\n"
          ],
          "name": "stdout"
        }
      ]
    },
    {
      "cell_type": "code",
      "metadata": {
        "id": "7Aw_DSG_84Zp",
        "colab_type": "code",
        "colab": {
          "base_uri": "https://localhost:8080/",
          "height": 33
        },
        "outputId": "59476b74-65f1-4bfe-920b-9b806dc17558"
      },
      "source": [
        "model = DecisionTreeClassifier()\n",
        "model.fit(x_train,y_train)\n",
        "predictions = model.predict(x_test)\n",
        "print(accuracy_score(y_test, predictions))"
      ],
      "execution_count": null,
      "outputs": [
        {
          "output_type": "stream",
          "text": [
            "0.6388888888888888\n"
          ],
          "name": "stdout"
        }
      ]
    },
    {
      "cell_type": "code",
      "metadata": {
        "id": "94CNXkm19MDJ",
        "colab_type": "code",
        "colab": {
          "base_uri": "https://localhost:8080/",
          "height": 33
        },
        "outputId": "587eaf0c-0236-4027-b62f-2f8d88ff5118"
      },
      "source": [
        "model = RandomForestClassifier(n_estimators=100)\n",
        "model.fit(x_train,y_train)\n",
        "predictions = model.predict(x_test)\n",
        "print(accuracy_score(y_test, predictions))"
      ],
      "execution_count": null,
      "outputs": [
        {
          "output_type": "stream",
          "text": [
            "0.6458333333333334\n"
          ],
          "name": "stdout"
        }
      ]
    },
    {
      "cell_type": "markdown",
      "metadata": {
        "colab_type": "text",
        "id": "8Lvk8jId9pWH"
      },
      "source": [
        "Training dataset – 60%<br>\n",
        "Testing dataset – 40%"
      ]
    },
    {
      "cell_type": "code",
      "metadata": {
        "colab_type": "code",
        "id": "Lc-5gY_L9pWH",
        "colab": {
          "base_uri": "https://localhost:8080/",
          "height": 84
        },
        "outputId": "cb386d92-6216-4968-8585-49e91b5ebd18"
      },
      "source": [
        "array = dataset.values\n",
        "X = array[:,2:6]\n",
        "Y = array[:,12]\n",
        "x_train, x_test, y_train, y_test = model_selection.train_test_split(X, Y, test_size=0.40, random_state=7)\n",
        "dataset.columns"
      ],
      "execution_count": null,
      "outputs": [
        {
          "output_type": "execute_result",
          "data": {
            "text/plain": [
              "Index(['Loan_ID', 'Gender', 'Married', 'Dependents', 'Education',\n",
              "       'Self_Employed', 'ApplicantIncome', 'CoapplicantIncome', 'LoanAmount',\n",
              "       'Loan_Amount_Term', 'Credit_History', 'Property_Area', 'Loan_Status'],\n",
              "      dtype='object')"
            ]
          },
          "metadata": {
            "tags": []
          },
          "execution_count": 31
        }
      ]
    },
    {
      "cell_type": "code",
      "metadata": {
        "colab_type": "code",
        "id": "mD7vhGk19pWK",
        "colab": {
          "base_uri": "https://localhost:8080/",
          "height": 33
        },
        "outputId": "7b8b5d06-c55b-4c68-e8bf-b6bedf5e8c50"
      },
      "source": [
        "model = LogisticRegression()\n",
        "model.fit(x_train,y_train)\n",
        "predictions = model.predict(x_test)\n",
        "print(accuracy_score(y_test, predictions))"
      ],
      "execution_count": null,
      "outputs": [
        {
          "output_type": "stream",
          "text": [
            "0.6354166666666666\n"
          ],
          "name": "stdout"
        }
      ]
    },
    {
      "cell_type": "code",
      "metadata": {
        "colab_type": "code",
        "id": "BK2OzC_b9pWN",
        "colab": {
          "base_uri": "https://localhost:8080/",
          "height": 33
        },
        "outputId": "e473cf38-8727-40b5-a28b-5287be772ddb"
      },
      "source": [
        "model = DecisionTreeClassifier()\n",
        "model.fit(x_train,y_train)\n",
        "predictions = model.predict(x_test)\n",
        "print(accuracy_score(y_test, predictions))"
      ],
      "execution_count": null,
      "outputs": [
        {
          "output_type": "stream",
          "text": [
            "0.6197916666666666\n"
          ],
          "name": "stdout"
        }
      ]
    },
    {
      "cell_type": "code",
      "metadata": {
        "id": "037gNXi8_nmY",
        "colab_type": "code",
        "colab": {
          "base_uri": "https://localhost:8080/",
          "height": 33
        },
        "outputId": "a52b8b7c-be93-47b3-c0ff-e82478a73a5c"
      },
      "source": [
        "model = RandomForestClassifier(n_estimators=100)\n",
        "model.fit(x_train,y_train)\n",
        "predictions = model.predict(x_test)\n",
        "print(accuracy_score(y_test, predictions))"
      ],
      "execution_count": null,
      "outputs": [
        {
          "output_type": "stream",
          "text": [
            "0.625\n"
          ],
          "name": "stdout"
        }
      ]
    },
    {
      "cell_type": "markdown",
      "metadata": {
        "id": "v7vj4TBZAFI5",
        "colab_type": "text"
      },
      "source": [
        "#Evaluating the model and training the Model with 'Self_Employed',\n",
        "#'ApplicantIncome', 'CoapplicantIncome',\n",
        "#'LoanAmount','Loan_Amount_Term', 'Credit_History',\n",
        "#'Property_Area'\n",
        "#ML model 3\n"
      ]
    },
    {
      "cell_type": "markdown",
      "metadata": {
        "colab_type": "text",
        "id": "2x6irF5eAYWw"
      },
      "source": [
        "Training dataset – 90%\n",
        "\n",
        "Testing dataset – 10%\n"
      ]
    },
    {
      "cell_type": "code",
      "metadata": {
        "colab_type": "code",
        "id": "q25BizaaAYW1",
        "colab": {
          "base_uri": "https://localhost:8080/",
          "height": 84
        },
        "outputId": "166c8936-1cbc-4bb5-9d7f-542612cb7391"
      },
      "source": [
        "array = dataset.values\n",
        "X = array[:,5:12]\n",
        "Y = array[:,12]\n",
        "x_train, x_test, y_train, y_test = model_selection.train_test_split(X, Y, test_size=0.10, random_state=7)\n",
        "dataset.columns"
      ],
      "execution_count": null,
      "outputs": [
        {
          "output_type": "execute_result",
          "data": {
            "text/plain": [
              "Index(['Loan_ID', 'Gender', 'Married', 'Dependents', 'Education',\n",
              "       'Self_Employed', 'ApplicantIncome', 'CoapplicantIncome', 'LoanAmount',\n",
              "       'Loan_Amount_Term', 'Credit_History', 'Property_Area', 'Loan_Status'],\n",
              "      dtype='object')"
            ]
          },
          "metadata": {
            "tags": []
          },
          "execution_count": 35
        }
      ]
    },
    {
      "cell_type": "code",
      "metadata": {
        "colab_type": "code",
        "id": "9KX1LJ4YAYW5",
        "colab": {
          "base_uri": "https://localhost:8080/",
          "height": 33
        },
        "outputId": "04d31c91-f1bc-44bf-b440-51d222dffad2"
      },
      "source": [
        "model = LogisticRegression()\n",
        "model.fit(x_train,y_train)\n",
        "predictions = model.predict(x_test)\n",
        "print(accuracy_score(y_test, predictions))"
      ],
      "execution_count": null,
      "outputs": [
        {
          "output_type": "stream",
          "text": [
            "0.7291666666666666\n"
          ],
          "name": "stdout"
        }
      ]
    },
    {
      "cell_type": "code",
      "metadata": {
        "id": "K7Xs4W0ZA5p5",
        "colab_type": "code",
        "colab": {
          "base_uri": "https://localhost:8080/",
          "height": 33
        },
        "outputId": "f423aad8-c8ef-436e-fc81-236f73be88f6"
      },
      "source": [
        "model = DecisionTreeClassifier()\n",
        "model.fit(x_train,y_train)\n",
        "predictions = model.predict(x_test)\n",
        "print(accuracy_score(y_test, predictions))"
      ],
      "execution_count": null,
      "outputs": [
        {
          "output_type": "stream",
          "text": [
            "0.625\n"
          ],
          "name": "stdout"
        }
      ]
    },
    {
      "cell_type": "code",
      "metadata": {
        "colab_type": "code",
        "id": "k4ZUuk1ZAYW9",
        "colab": {
          "base_uri": "https://localhost:8080/",
          "height": 33
        },
        "outputId": "c24756bf-d5e5-4bc3-c0ec-973a133f8838"
      },
      "source": [
        "model = RandomForestClassifier(n_estimators=100)\n",
        "model.fit(x_train,y_train)\n",
        "predictions = model.predict(x_test)\n",
        "print(accuracy_score(y_test, predictions))"
      ],
      "execution_count": null,
      "outputs": [
        {
          "output_type": "stream",
          "text": [
            "0.7083333333333334\n"
          ],
          "name": "stdout"
        }
      ]
    },
    {
      "cell_type": "markdown",
      "metadata": {
        "colab_type": "text",
        "id": "hqXpV6b-AYW_"
      },
      "source": [
        "Training dataset – 70%<br>\n",
        "Testing dataset – 30%"
      ]
    },
    {
      "cell_type": "code",
      "metadata": {
        "colab_type": "code",
        "id": "AQfYwYffAYW_",
        "colab": {
          "base_uri": "https://localhost:8080/",
          "height": 84
        },
        "outputId": "7d6231f5-b5bf-4c6d-eac1-4fe25d91325c"
      },
      "source": [
        "array = dataset.values\n",
        "X = array[:,5:12]\n",
        "Y = array[:,12]\n",
        "x_train, x_test, y_train, y_test = model_selection.train_test_split(X, Y, test_size=0.30, random_state=7)\n",
        "dataset.columns"
      ],
      "execution_count": null,
      "outputs": [
        {
          "output_type": "execute_result",
          "data": {
            "text/plain": [
              "Index(['Loan_ID', 'Gender', 'Married', 'Dependents', 'Education',\n",
              "       'Self_Employed', 'ApplicantIncome', 'CoapplicantIncome', 'LoanAmount',\n",
              "       'Loan_Amount_Term', 'Credit_History', 'Property_Area', 'Loan_Status'],\n",
              "      dtype='object')"
            ]
          },
          "metadata": {
            "tags": []
          },
          "execution_count": 39
        }
      ]
    },
    {
      "cell_type": "code",
      "metadata": {
        "colab_type": "code",
        "id": "q0_p9wg2AYXB",
        "colab": {
          "base_uri": "https://localhost:8080/",
          "height": 187
        },
        "outputId": "d934b9c2-4e25-484a-e43b-fca28e834dba"
      },
      "source": [
        "model = LogisticRegression()\n",
        "model.fit(x_train,y_train)\n",
        "predictions = model.predict(x_test)\n",
        "print(accuracy_score(y_test, predictions))"
      ],
      "execution_count": null,
      "outputs": [
        {
          "output_type": "stream",
          "text": [
            "0.7916666666666666\n"
          ],
          "name": "stdout"
        },
        {
          "output_type": "stream",
          "text": [
            "/usr/local/lib/python3.6/dist-packages/sklearn/linear_model/_logistic.py:940: ConvergenceWarning: lbfgs failed to converge (status=1):\n",
            "STOP: TOTAL NO. of ITERATIONS REACHED LIMIT.\n",
            "\n",
            "Increase the number of iterations (max_iter) or scale the data as shown in:\n",
            "    https://scikit-learn.org/stable/modules/preprocessing.html\n",
            "Please also refer to the documentation for alternative solver options:\n",
            "    https://scikit-learn.org/stable/modules/linear_model.html#logistic-regression\n",
            "  extra_warning_msg=_LOGISTIC_SOLVER_CONVERGENCE_MSG)\n"
          ],
          "name": "stderr"
        }
      ]
    },
    {
      "cell_type": "code",
      "metadata": {
        "colab_type": "code",
        "id": "6JYLWITnAYXD",
        "colab": {
          "base_uri": "https://localhost:8080/",
          "height": 33
        },
        "outputId": "c99e46b8-55ee-4162-9abd-f5d253ad0f9c"
      },
      "source": [
        "model = DecisionTreeClassifier()\n",
        "model.fit(x_train,y_train)\n",
        "predictions = model.predict(x_test)\n",
        "print(accuracy_score(y_test, predictions))"
      ],
      "execution_count": null,
      "outputs": [
        {
          "output_type": "stream",
          "text": [
            "0.7013888888888888\n"
          ],
          "name": "stdout"
        }
      ]
    },
    {
      "cell_type": "code",
      "metadata": {
        "colab_type": "code",
        "id": "Da6hNna5AYXF",
        "colab": {
          "base_uri": "https://localhost:8080/",
          "height": 33
        },
        "outputId": "406e0951-c9a7-467f-9c98-82ceee53249c"
      },
      "source": [
        "model = RandomForestClassifier(n_estimators=100)\n",
        "model.fit(x_train,y_train)\n",
        "predictions = model.predict(x_test)\n",
        "print(accuracy_score(y_test, predictions))"
      ],
      "execution_count": null,
      "outputs": [
        {
          "output_type": "stream",
          "text": [
            "0.7361111111111112\n"
          ],
          "name": "stdout"
        }
      ]
    },
    {
      "cell_type": "markdown",
      "metadata": {
        "colab_type": "text",
        "id": "x7yK3XcbAYXH"
      },
      "source": [
        "Training dataset – 60%<br>\n",
        "Testing dataset – 40%"
      ]
    },
    {
      "cell_type": "code",
      "metadata": {
        "colab_type": "code",
        "id": "PaRktHxDAYXI",
        "colab": {
          "base_uri": "https://localhost:8080/",
          "height": 84
        },
        "outputId": "24a20edf-2ffb-4058-d05c-1bcfe450201d"
      },
      "source": [
        "array = dataset.values\n",
        "X = array[:,5:12]\n",
        "Y = array[:,12]\n",
        "x_train, x_test, y_train, y_test = model_selection.train_test_split(X, Y, test_size=0.40, random_state=7)\n",
        "dataset.columns"
      ],
      "execution_count": null,
      "outputs": [
        {
          "output_type": "execute_result",
          "data": {
            "text/plain": [
              "Index(['Loan_ID', 'Gender', 'Married', 'Dependents', 'Education',\n",
              "       'Self_Employed', 'ApplicantIncome', 'CoapplicantIncome', 'LoanAmount',\n",
              "       'Loan_Amount_Term', 'Credit_History', 'Property_Area', 'Loan_Status'],\n",
              "      dtype='object')"
            ]
          },
          "metadata": {
            "tags": []
          },
          "execution_count": 43
        }
      ]
    },
    {
      "cell_type": "code",
      "metadata": {
        "colab_type": "code",
        "id": "sL4u_vb2AYXJ",
        "colab": {
          "base_uri": "https://localhost:8080/",
          "height": 33
        },
        "outputId": "d531b729-553a-4500-b4ed-8a992838d2bb"
      },
      "source": [
        "model = LogisticRegression()\n",
        "model.fit(x_train,y_train)\n",
        "predictions = model.predict(x_test)\n",
        "print(accuracy_score(y_test, predictions))"
      ],
      "execution_count": null,
      "outputs": [
        {
          "output_type": "stream",
          "text": [
            "0.8020833333333334\n"
          ],
          "name": "stdout"
        }
      ]
    },
    {
      "cell_type": "code",
      "metadata": {
        "colab_type": "code",
        "id": "XqhhX9gZAYXL",
        "colab": {
          "base_uri": "https://localhost:8080/",
          "height": 33
        },
        "outputId": "144cc78e-bc20-4178-b41b-a3a03506c1d4"
      },
      "source": [
        "model = DecisionTreeClassifier()\n",
        "model.fit(x_train,y_train)\n",
        "predictions = model.predict(x_test)\n",
        "print(accuracy_score(y_test, predictions))"
      ],
      "execution_count": null,
      "outputs": [
        {
          "output_type": "stream",
          "text": [
            "0.703125\n"
          ],
          "name": "stdout"
        }
      ]
    },
    {
      "cell_type": "code",
      "metadata": {
        "colab_type": "code",
        "id": "PwJUfFc5AYXN",
        "colab": {
          "base_uri": "https://localhost:8080/",
          "height": 33
        },
        "outputId": "a5729109-cec0-417f-a924-2b0d2478acae"
      },
      "source": [
        "model = RandomForestClassifier(n_estimators=100)\n",
        "model.fit(x_train,y_train)\n",
        "predictions = model.predict(x_test)\n",
        "print(accuracy_score(y_test, predictions))"
      ],
      "execution_count": null,
      "outputs": [
        {
          "output_type": "stream",
          "text": [
            "0.7708333333333334\n"
          ],
          "name": "stdout"
        }
      ]
    }
  ]
}